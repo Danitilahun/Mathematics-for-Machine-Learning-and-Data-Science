{
 "cells": [
  {
   "cell_type": "markdown",
   "metadata": {},
   "source": [
    "# NumPy: The Data Scientist's Foundation\n",
    "\n",
    "\n",
    "NumPy is a cornerstone of the data scientist's toolkit. It provides the foundation for efficient data processing in Python, enabling seamless handling of even large datasets.\n",
    "\n",
    "NumPy's robust toolset, including:\n",
    "\n",
    "*   **Easy Element-wise Calculations:** Perform operations on arrays without looping.\n",
    "*   **Matrix Multiplication:** Optimized for fast and efficient matrix operations.\n",
    "*   **Vectorization:** Apply functions to entire arrays, dramatically improving performance.\n",
    "\n",
    "These capabilities make NumPy the go-to choice for performing complex calculations in Python.\n",
    "\n",
    "\n",
    "**Source:** [NumPy Interview Questions](https://www.datacamp.com/blog/numpy-interview-questions)"
   ]
  },
  {
   "cell_type": "markdown",
   "metadata": {},
   "source": [
    "# NumPy: The Foundation of Data Science\n",
    "\n",
    "## What is NumPy?\n",
    "\n",
    "NumPy is a fundamental Python package, largely implemented in C/C++ for optimized performance. Its primary objective is to accelerate and simplify the manipulation of large data arrays within Python.\n",
    "\n",
    "## Why is NumPy Used in Data Science?\n",
    "\n",
    "NumPy is a crucial tool in data science for several reasons:\n",
    "\n",
    "*   **High-Performance Arrays and Matrices:** NumPy provides robust support for large, multi-dimensional arrays and matrices. These are essential for efficiently managing and processing substantial datasets common in data science.\n",
    "\n",
    "*   **Comprehensive Mathematical Functions:** NumPy offers a vast collection of mathematical functions specifically designed to operate on these arrays. This allows for rapid and efficient computations on large datasets, which is critical for model building and analysis.\n",
    "\n",
    "*   **Vectorized Operations:** NumPy's vectorized operations enable complex mathematical operations to be applied across entire arrays without explicit looping. This dramatically improves performance and simplifies code.\n",
    "\n",
    "*   **Foundation for the Data Science Ecosystem:** NumPy serves as the underlying foundation for numerous other essential data science libraries, including:\n",
    "    *   **pandas:** For data analysis and manipulation.\n",
    "    *   **scikit-learn:** For machine learning algorithms.\n",
    "    *   **SciPy:** For scientific computing.\n",
    "\n",
    "    Its foundational role makes it an indispensable part of the Python data science ecosystem.\n",
    "\n",
    "*   **Memory Efficiency:** NumPy arrays are significantly more memory-efficient than standard Python lists. This is a critical advantage when dealing with the large datasets often encountered in data science."
   ]
  },
  {
   "cell_type": "markdown",
   "metadata": {},
   "source": [
    "## Python Lists vs. NumPy Arrays: Key Differences\n",
    "\n",
    "While both Python lists and NumPy arrays can store collections of data, they differ significantly in their characteristics and suitability for various tasks. Here's a breakdown of the key distinctions:\n",
    "\n",
    "*   **Homogeneity:**\n",
    "    *   **NumPy Arrays:** Are *homogeneous*, meaning all elements within the array must be of the same data type (e.g., all integers, all floats).\n",
    "    *   **Python Lists:** Are *heterogeneous*, allowing elements of different data types to be stored within the same list (e.g., a list can contain integers, strings, and other objects).\n",
    "\n",
    "*   **Memory Efficiency:**\n",
    "    *   **NumPy Arrays:** Are more memory-efficient. They store data in a contiguous block of memory, eliminating the overhead of storing pointers to individual objects as Python lists do.  This contiguous storage significantly reduces memory consumption, especially for large datasets.\n",
    "    *   **Python Lists:** Store pointers to objects scattered throughout memory. This adds overhead and can lead to increased memory usage.\n",
    "\n",
    "*   **Performance:**\n",
    "    *   **NumPy Arrays:** Offer significantly better performance for numerical computations due to *vectorized operations*. These operations are performed element-wise on the entire array without explicit loops, leveraging optimized C/C++ code under the hood.\n",
    "    *   **Python Lists:** Require explicit looping to perform operations on each element, resulting in slower execution times for numerical computations.\n",
    "\n",
    "*   **Functionality:**\n",
    "    *   **NumPy Arrays:** Provide a rich set of built-in mathematical functions and operations that can be directly applied to the array. This includes functions for linear algebra, statistics, Fourier transforms, and more.\n",
    "    *   **Python Lists:** Have limited built-in mathematical functionality. Mathematical operations typically require manual implementation using loops or relying on external libraries.\n",
    "\n",
    "In summary, NumPy arrays are optimized for numerical computation and memory efficiency, making them the preferred choice for data science and scientific computing, while Python lists offer greater flexibility in terms of data types but are less performant for numerical operations."
   ]
  },
  {
   "cell_type": "markdown",
   "metadata": {},
   "source": [
    "## NumPy Broadcasting Explained (Concise)\n",
    "\n",
    "Broadcasting is NumPy's ability to perform operations on arrays with different shapes by automatically expanding the smaller array to match the larger one.\n",
    "\n",
    "**Broadcasting Rules:**\n",
    "\n",
    "1.  Dimensions are compatible if they are equal or one of them is 1.\n",
    "2.  Arrays with a size of 1 along a dimension behave as if they have the size of the array with the largest shape along that dimension; the value is repeated.\n",
    "\n",
    "**Broadcasting in Action:**\n",
    "\n",
    "```python\n",
    "import numpy as np\n",
    "\n",
    "a = np.array([1, 2, 3])  # Shape: (3,) which is treated as (1, 3)\n",
    "b = np.array([[1], [2], [3]])  # Shape: (3, 1)\n",
    "\n",
    "# `a` is broadcast along rows: [[1, 2, 3], [1, 2, 3], [1, 2, 3]]\n",
    "# `b` is broadcast along columns: [[1, 1, 1], [2, 2, 2], [3, 3, 3]]"
   ]
  },
  {
   "cell_type": "code",
   "execution_count": 1,
   "metadata": {},
   "outputs": [],
   "source": [
    "import numpy as np"
   ]
  },
  {
   "cell_type": "code",
   "execution_count": 2,
   "metadata": {},
   "outputs": [],
   "source": [
    "a = np.array([1, 2, 3])  # Shape: (3,) which is treated as (1, 3)\n",
    "b = np.array([[1], [2], [3]])  # Shape: (3, 1)"
   ]
  },
  {
   "cell_type": "code",
   "execution_count": 3,
   "metadata": {},
   "outputs": [
    {
     "name": "stdout",
     "output_type": "stream",
     "text": [
      "[[2 3 4]\n",
      " [3 4 5]\n",
      " [4 5 6]]\n"
     ]
    }
   ],
   "source": [
    "result = a + b\n",
    "print(result)"
   ]
  },
  {
   "cell_type": "markdown",
   "metadata": {},
   "source": [
    "## Calculating Descriptive Statistics with NumPy\n",
    "\n",
    "The mean, median, and standard deviation are fundamental descriptive statistics used to understand datasets. NumPy provides efficient functions to calculate these measures:"
   ]
  },
  {
   "cell_type": "code",
   "execution_count": 4,
   "metadata": {},
   "outputs": [],
   "source": [
    "arr = np.array([1, 2, 3, 4, 5])"
   ]
  },
  {
   "cell_type": "code",
   "execution_count": 6,
   "metadata": {},
   "outputs": [
    {
     "name": "stdout",
     "output_type": "stream",
     "text": [
      "3.0\n"
     ]
    }
   ],
   "source": [
    "#Mean\n",
    "mean_value = np.mean(arr)\n",
    "print(mean_value)"
   ]
  },
  {
   "cell_type": "code",
   "execution_count": 7,
   "metadata": {},
   "outputs": [
    {
     "name": "stdout",
     "output_type": "stream",
     "text": [
      "3.0\n"
     ]
    }
   ],
   "source": [
    "#Median\n",
    "median_value = np.median(arr)\n",
    "print(median_value)"
   ]
  },
  {
   "cell_type": "code",
   "execution_count": 8,
   "metadata": {},
   "outputs": [
    {
     "name": "stdout",
     "output_type": "stream",
     "text": [
      "1.4142135623730951\n"
     ]
    }
   ],
   "source": [
    "#Standard Deviation \n",
    "std_value = np.std(arr)\n",
    "print(std_value)"
   ]
  },
  {
   "cell_type": "markdown",
   "metadata": {},
   "source": [
    "## NumPy: `np.where()` - Conditional Element Selection\n",
    "\n",
    "`np.where()` is a powerful function in NumPy that allows you to select elements from an array based on a condition. It essentially acts as a vectorized \"if-else\" statement.\n",
    "\n",
    "**Description:**\n",
    "\n",
    "`np.where(condition, x, y)`\n",
    "\n",
    "*   **`condition`**: A boolean array. Elements where `condition` is `True` are selected from `x`, and elements where `condition` is `False` are selected from `y`.\n",
    "*   **`x`**: An array (or a scalar). Values from this array are used where the `condition` is `True`.\n",
    "*   **`y`**: An array (or a scalar). Values from this array are used where the `condition` is `False`.\n",
    "\n",
    "The function returns an array with the same shape as `condition`, containing elements selected based on the corresponding boolean values.\n",
    "\n",
    "**Key Advantages:**\n",
    "\n",
    "*   **Vectorization:** `np.where()` is a vectorized operation, meaning it operates element-wise on the entire array without explicit loops, leading to faster performance.\n",
    "*   **Conciseness:** It provides a compact and readable way to express conditional logic within NumPy arrays.\n",
    "*   **Flexibility:** It can be used for element replacement, index retrieval, and other conditional manipulations of array data.\n",
    "\n",
    "In summary, `np.where()` is a versatile tool for conditional selection and modification of NumPy array elements, enabling efficient and concise code for data manipulation and analysis."
   ]
  },
  {
   "cell_type": "code",
   "execution_count": null,
   "metadata": {},
   "outputs": [
    {
     "name": "stdout",
     "output_type": "stream",
     "text": [
      "[1 2 0 0 0]\n"
     ]
    }
   ],
   "source": [
    "# Conditional Selection\n",
    "arr = np.array([1, 2, 3, 4, 5])\n",
    "\n",
    "# Replace elements greater than 2 with 0, otherwise keep the original value\n",
    "result = np.where(arr > 2, 0, arr)\n",
    "print(result)"
   ]
  },
  {
   "cell_type": "code",
   "execution_count": 11,
   "metadata": {},
   "outputs": [
    {
     "name": "stdout",
     "output_type": "stream",
     "text": [
      "[0 0 1 0 2]\n"
     ]
    }
   ],
   "source": [
    "# Replacing Values Based on Condition\n",
    "\n",
    "arr = np.array([-1, 0, 1, -2, 2])\n",
    "\n",
    "# Replace negative values with 0, keep positive and zero values as they are\n",
    "result = np.where(arr < 0, 0, arr)\n",
    "print(result)\n"
   ]
  },
  {
   "cell_type": "code",
   "execution_count": null,
   "metadata": {},
   "outputs": [
    {
     "name": "stdout",
     "output_type": "stream",
     "text": [
      "(array([1, 3]),)\n"
     ]
    }
   ],
   "source": [
    "# **Using `np.where()` to Find Indices:**\n",
    "# If you only provide the `condition` argument, `np.where()` returns the *indices* where the condition is `True`. \n",
    "# This is often used to locate specific elements within an array. It returns a tuple of arrays, one for each dimension.\n",
    "\n",
    "arr = np.array([1, 0, 2, 0, 3])\n",
    "\n",
    "# Find the indices where the array elements are equal to 0\n",
    "indices = np.where(arr == 0)\n",
    "print(indices)\n"
   ]
  },
  {
   "cell_type": "code",
   "execution_count": 14,
   "metadata": {},
   "outputs": [
    {
     "name": "stdout",
     "output_type": "stream",
     "text": [
      "[[20 20]\n",
      " [10 10]]\n"
     ]
    }
   ],
   "source": [
    "# **Multi-Dimensional Arrays:**\n",
    "# `np.where()` works seamlessly with multi-dimensional arrays.\n",
    "\n",
    "arr = np.array([[1, 2], [3, 4]])\n",
    "\n",
    "# Set elements greater than 2 to 10, otherwise set to 20\n",
    "result = np.where(arr > 2, 10, 20)\n",
    "print(result)\n"
   ]
  }
 ],
 "metadata": {
  "kernelspec": {
   "display_name": "Python 3",
   "language": "python",
   "name": "python3"
  },
  "language_info": {
   "codemirror_mode": {
    "name": "ipython",
    "version": 3
   },
   "file_extension": ".py",
   "mimetype": "text/x-python",
   "name": "python",
   "nbconvert_exporter": "python",
   "pygments_lexer": "ipython3",
   "version": "3.12.3"
  }
 },
 "nbformat": 4,
 "nbformat_minor": 2
}
